{
  "nbformat": 4,
  "nbformat_minor": 0,
  "metadata": {
    "colab": {
      "provenance": [],
      "include_colab_link": true
    },
    "kernelspec": {
      "name": "python3",
      "display_name": "Python 3"
    }
  },
  "cells": [
    {
      "cell_type": "markdown",
      "metadata": {
        "id": "view-in-github",
        "colab_type": "text"
      },
      "source": [
        "<a href=\"https://colab.research.google.com/github/angelodavido/DS_Python_Class/blob/main/Data_Science_Prep_W1_Independent_Project_23_02_2024_Notebook.ipynb\" target=\"_parent\"><img src=\"https://colab.research.google.com/assets/colab-badge.svg\" alt=\"Open In Colab\"/></a>"
      ]
    },
    {
      "cell_type": "markdown",
      "metadata": {
        "id": "26tx4ML0qY-p"
      },
      "source": [
        "Python"
      ]
    },
    {
      "cell_type": "markdown",
      "metadata": {
        "id": "v0fo1VtsPesa"
      },
      "source": [
        "1. Take in two values from a user (both in pounds) then convert those values to kilograms."
      ]
    },
    {
      "cell_type": "code",
      "metadata": {
        "id": "f5_2Q9Y64AZU",
        "outputId": "e6608d16-7bac-4616-9146-05d8832b6107",
        "colab": {
          "base_uri": "https://localhost:8080/",
          "height": 85
        }
      },
      "source": [
        "# The code loops twice where user input is requested twice.\n",
        "# The input is converted to kilograms\n",
        "#\n",
        "value1 = float(input(\"Enter value: \"))\n",
        "value2 = float(input(\"Enter value: \"))\n",
        "\n",
        "x = 0.45359237\n",
        "\n",
        "kg_value1 = x * value1\n",
        "kg_value2 = x * value2\n",
        "\n",
        "# Print value of kg_value1\n",
        "---\n",
        "\n",
        "# Print value of kg_value1\n",
        "---\n"
      ],
      "execution_count": null,
      "outputs": [
        {
          "output_type": "stream",
          "text": [
            "Enter value: 5\n",
            "Enter value: 10\n",
            "Value 1:  2.2679618500000003  kgs\n",
            "Value 2:  4.535923700000001  kgs\n"
          ],
          "name": "stdout"
        }
      ]
    },
    {
      "cell_type": "markdown",
      "metadata": {
        "id": "yXh3y8CXPtdc"
      },
      "source": [
        "2. Perform the sum of the values."
      ]
    },
    {
      "cell_type": "code",
      "metadata": {
        "id": "eM0mxNDm8U27",
        "outputId": "95626a1f-005b-48fb-ce6d-b6599447803a",
        "colab": {
          "base_uri": "https://localhost:8080/",
          "height": 34
        }
      },
      "source": [
        "# The code sums up the result of the values in kgs.\n",
        "# Find the sum of kg_value1 and kg_value1 and assign it to 's'\n",
        "---\n",
        "\n",
        "print(s)"
      ],
      "execution_count": null,
      "outputs": [
        {
          "output_type": "stream",
          "text": [
            "6.80388555\n"
          ],
          "name": "stdout"
        }
      ]
    },
    {
      "cell_type": "markdown",
      "metadata": {
        "id": "PflgUXi_PxH8"
      },
      "source": [
        "3. Perform the average of the values."
      ]
    },
    {
      "cell_type": "code",
      "metadata": {
        "id": "L3b7Ljl1ADpH",
        "outputId": "24827c23-5e42-4892-83eb-080c16cb1d37",
        "colab": {
          "base_uri": "https://localhost:8080/",
          "height": 34
        }
      },
      "source": [
        "# The code calculates the average of the values in kgs\n",
        "# Find the average of kg_value1 and kg_value2\n",
        "---\n",
        "\n",
        "print(average)"
      ],
      "execution_count": null,
      "outputs": [
        {
          "output_type": "stream",
          "text": [
            "3.401942775\n"
          ],
          "name": "stdout"
        }
      ]
    },
    {
      "cell_type": "markdown",
      "metadata": {
        "id": "sNSoyjkqP0uR"
      },
      "source": [
        "4. Find the difference between both values."
      ]
    },
    {
      "cell_type": "code",
      "metadata": {
        "id": "PGDMnZZWNFDc",
        "outputId": "11299112-16fb-4b30-f8f3-c9ef258d5faf",
        "colab": {
          "base_uri": "https://localhost:8080/",
          "height": 34
        }
      },
      "source": [
        "# The code calculates the difference of the values in kgs\n",
        "# Find the difference between kg_value1 and kg_value2\n",
        "---\n",
        "print(difference)"
      ],
      "execution_count": null,
      "outputs": [
        {
          "output_type": "stream",
          "text": [
            "2.2679618500000003\n"
          ],
          "name": "stdout"
        }
      ]
    },
    {
      "cell_type": "markdown",
      "metadata": {
        "id": "MhGRRk64P5fZ"
      },
      "source": [
        "5. Find the quotient when one value is divided by the other."
      ]
    },
    {
      "cell_type": "code",
      "metadata": {
        "id": "LpkEteupO4tu",
        "outputId": "1b7ef3ce-81aa-4657-beb1-d658f3900135",
        "colab": {
          "base_uri": "https://localhost:8080/",
          "height": 34
        }
      },
      "source": [
        "# The code calculates the quotient of the values in kgs\n",
        "quotient_1 = kg_value1/kg_value2\n",
        "quotient_2 = kg_value2/kg_value1\n",
        "\n",
        "# Print the output below"
      ],
      "execution_count": null,
      "outputs": [
        {
          "output_type": "stream",
          "text": [
            "Quotient 1 is:  0.5  and quotient 2 is : 2.0\n"
          ],
          "name": "stdout"
        }
      ]
    },
    {
      "cell_type": "markdown",
      "metadata": {
        "id": "dwcTh1eMP9dv"
      },
      "source": [
        "5. Determine and print out whether any of the numbers are even or add."
      ]
    },
    {
      "cell_type": "code",
      "metadata": {
        "id": "ZiBJ0SOoPGo6",
        "outputId": "38baf5ed-a14e-45d3-e175-0ca9c72705ba",
        "colab": {
          "base_uri": "https://localhost:8080/",
          "height": 34
        }
      },
      "source": [
        "# The code determines whether the values in kgs are Even or Odd\n",
        "# Using if else check if the value of kg_value1 is odd or even\n",
        "---"
      ],
      "execution_count": null,
      "outputs": [
        {
          "output_type": "stream",
          "text": [
            "Value is Odd\n"
          ],
          "name": "stdout"
        }
      ]
    },
    {
      "cell_type": "code",
      "metadata": {
        "id": "yEgNUz76PVsT"
      },
      "source": [],
      "execution_count": null,
      "outputs": []
    }
  ]
}